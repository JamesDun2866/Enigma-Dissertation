{
 "cells": [
  {
   "cell_type": "markdown",
   "metadata": {},
   "source": [
    "# Enigma"
   ]
  },
  {
   "cell_type": "code",
   "execution_count": 24,
   "metadata": {
    "scrolled": false
   },
   "outputs": [
    {
     "name": "stdout",
     "output_type": "stream",
     "text": [
      "R1: 18 R2: 26 R3: 22 Ring1: 6 Ring2: 13 Ring3: 16 Plugs Connected: LN OF KN FA WY FI IK PJ PV \n",
      "R1: 21 R2: 4 R3: 23 Ring1: 23 Ring2: 9 Ring3: 5 Plugs Connected: XA DP XT ZW TO KP JP JD \n",
      "R1: 25 R2: 11 R3: 25 Ring1: 12 Ring2: 18 Ring3: 13 Plugs Connected: None\n",
      "R1: 12 R2: 23 R3: 13 Ring1: 7 Ring2: 14 Ring3: 11 Plugs Connected: KH UX AE ID RY HZ HQ UB \n",
      "R1: 7 R2: 9 R3: 17 Ring1: 3 Ring2: 7 Ring3: 26 Plugs Connected: None\n",
      "R1: 5 R2: 16 R3: 9 Ring1: 26 Ring2: 1 Ring3: 23 Plugs Connected: AV \n",
      "R1: 2 R2: 8 R3: 3 Ring1: 20 Ring2: 23 Ring3: 14 Plugs Connected: LU GY MK UI BZ CU AW AL AC OL \n",
      "R1: 23 R2: 24 R3: 7 Ring1: 16 Ring2: 21 Ring3: 12 Plugs Connected: NQ BV \n",
      "R1: 12 R2: 5 R3: 26 Ring1: 5 Ring2: 14 Ring3: 21 Plugs Connected: LO DO JI CQ \n",
      "R1: 9 R2: 23 R3: 14 Ring1: 17 Ring2: 1 Ring3: 12 Plugs Connected: OA LZ GF EF \n"
     ]
    }
   ],
   "source": [
    "from random import seed\n",
    "from random import randint\n",
    "import random\n",
    "import string\n",
    "\n",
    "for x in range (10):\n",
    "    Rotor1 = randint(1, 26)\n",
    "    Rotor2 = randint(1, 26)\n",
    "    Rotor3 = randint(1, 26)\n",
    "    RingSetting1 = randint(1, 26)\n",
    "    RingSetting2 = randint(1, 26)\n",
    "    RingSetting3 = randint(1, 26)\n",
    "    Plugs = randint(0, 1)\n",
    "\n",
    "    if (Plugs == 1):\n",
    "        plugpairs = randint(1, 10)\n",
    "        pairs = []\n",
    "        for x in range (plugpairs):\n",
    "            first = random.choice(string.ascii_uppercase)\n",
    "            second = random.choice(string.ascii_uppercase)\n",
    "            if (first != second):\n",
    "                plugpair = first + second\n",
    "                pairs.append(plugpair)\n",
    "        pairstring = \"\"\n",
    "        for x in pairs:\n",
    "            pairstring += x\n",
    "            pairstring += ' '\n",
    "\n",
    "    if (Plugs == 0):\n",
    "        print('R1:', Rotor1, 'R2:', Rotor2, 'R3:', Rotor3,'Ring1:', RingSetting1, 'Ring2:',RingSetting2, 'Ring3:', RingSetting3, 'Plugs Connected: None')\n",
    "    else:\n",
    "        print('R1:', Rotor1, 'R2:', Rotor2, 'R3:', Rotor3,'Ring1:', RingSetting1, 'Ring2:',RingSetting2, 'Ring3:', RingSetting3, 'Plugs Connected:', pairstring)\n",
    "        \n",
    "        \n",
    "        "
   ]
  },
  {
   "cell_type": "markdown",
   "metadata": {},
   "source": [
    "# Improved Enigma"
   ]
  },
  {
   "cell_type": "code",
   "execution_count": 22,
   "metadata": {
    "scrolled": false
   },
   "outputs": [
    {
     "name": "stdout",
     "output_type": "stream",
     "text": [
      "R1: 7 R2: 6 R3: 2 Ring1: 19 Ring2: 26 Ring3: 6 Plugs Connected: XW CX WV SB AH OX IH EN KV XM MI SM  Switches Y I Q \n",
      "R1: 21 R2: 1 R3: 5 Ring1: 11 Ring2: 17 Ring3: 5 Plugs Connected: None Switches O \n",
      "R1: 16 R2: 15 R3: 21 Ring1: 20 Ring2: 5 Ring3: 24 Plugs Connected: CL ET EO RA VM QI SQ  Switches A Z V Y O X H G J W A H J V R K Y U L T E G K V L G \n",
      "R1: 13 R2: 7 R3: 14 Ring1: 1 Ring2: 6 Ring3: 1 Plugs Connected: None Switches M \n",
      "R1: 25 R2: 1 R3: 21 Ring1: 14 Ring2: 26 Ring3: 14 Plugs Connected: MT MV SE FL LN OB OW CO MD ST FL  Switches S R H R L C W D B G H M B Q M D G T H B G I \n",
      "R1: 2 R2: 25 R3: 2 Ring1: 12 Ring2: 18 Ring3: 10 Plugs Connected: IF TB JR QE  Switches E N C G U H D \n",
      "R1: 24 R2: 13 R3: 26 Ring1: 9 Ring2: 11 Ring3: 12 Plugs Connected: LF FD PU VA UR IU BO TB  Switches V C I \n",
      "R1: 25 R2: 8 R3: 21 Ring1: 26 Ring2: 12 Ring3: 11 Plugs Connected: None Switches C E E N Y K S E H J E T X B O E N F C A \n",
      "R1: 17 R2: 21 R3: 25 Ring1: 5 Ring2: 20 Ring3: 20 Plugs Connected: ZP HI XV WB VF DI JS CY ME JZ  Switches G W I I \n",
      "R1: 12 R2: 24 R3: 6 Ring1: 5 Ring2: 20 Ring3: 19 Plugs Connected: None Switches O T N L T Q \n"
     ]
    }
   ],
   "source": [
    "for x in range (10):\n",
    "    Rotor1 = randint(1, 26)\n",
    "    Rotor2 = randint(1, 26)\n",
    "    Rotor3 = randint(1, 26)\n",
    "    RingSetting1 = randint(1, 26)\n",
    "    RingSetting2 = randint(1, 26)\n",
    "    RingSetting3 = randint(1, 26)\n",
    "    Plugs = randint(0, 1)\n",
    "\n",
    "    if (Plugs == 1):\n",
    "        plugpairs = randint(1, 13)\n",
    "        pairs = []\n",
    "        for x in range (plugpairs):\n",
    "            first = random.choice(string.ascii_uppercase)\n",
    "            second = random.choice(string.ascii_uppercase)\n",
    "            if (first != second):\n",
    "                plugpair = first + second\n",
    "                pairs.append(plugpair)\n",
    "        pairstring = \"\"\n",
    "        for x in pairs:\n",
    "            pairstring += x\n",
    "            pairstring += ' '\n",
    "            \n",
    "    sw = []\n",
    "    switches = randint(1,26)\n",
    "    for x in range(switches):\n",
    "        letter = random.choice(string.ascii_uppercase)\n",
    "        sw.append(letter)\n",
    "    swfin = \"\"\n",
    "    for x in sw:\n",
    "        swfin +=x\n",
    "        swfin +=' '\n",
    "        \n",
    "\n",
    "    if (Plugs == 0):\n",
    "        print('R1:', Rotor1, 'R2:', Rotor2, 'R3:', Rotor3,'Ring1:', RingSetting1, 'Ring2:',RingSetting2, 'Ring3:', RingSetting3, 'Plugs Connected: None', 'Switches',swfin)\n",
    "    else:\n",
    "        print('R1:', Rotor1, 'R2:', Rotor2, 'R3:', Rotor3,'Ring1:', RingSetting1, 'Ring2:',RingSetting2, 'Ring3:', RingSetting3, 'Plugs Connected:', pairstring,'Switches',swfin)"
   ]
  },
  {
   "cell_type": "code",
   "execution_count": null,
   "metadata": {},
   "outputs": [],
   "source": []
  }
 ],
 "metadata": {
  "kernelspec": {
   "display_name": "Python 3",
   "language": "python",
   "name": "python3"
  },
  "language_info": {
   "codemirror_mode": {
    "name": "ipython",
    "version": 3
   },
   "file_extension": ".py",
   "mimetype": "text/x-python",
   "name": "python",
   "nbconvert_exporter": "python",
   "pygments_lexer": "ipython3",
   "version": "3.7.4"
  }
 },
 "nbformat": 4,
 "nbformat_minor": 2
}
